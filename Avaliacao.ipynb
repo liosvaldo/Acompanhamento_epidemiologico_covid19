{
 "cells": [
  {
   "cell_type": "markdown",
   "metadata": {},
   "source": [
    "# Iniciamos 19h05"
   ]
  },
  {
   "cell_type": "markdown",
   "metadata": {},
   "source": [
    "# Avaliacão Módulo II"
   ]
  },
  {
   "cell_type": "markdown",
   "metadata": {},
   "source": [
    "Vamos fazer novamente a avaliacão por rubrica:  \n",
    "  \n",
    "A aula de hoje é reservada para  \n",
    "  \n",
    "**Autoavaliação:** https://forms.gle/U1Z5mueF683jGycT6  \n",
    "**Avaliação Professor:** https://forms.gle/3nUoSCWioHkGq2LGA  \n",
    "  \n",
    "Observando os projetos que desenvolvemos durante o módulo e conversando préviamente com o professor do próximo módulo vamos ter um conteúdo bem legal e denso de estatística."
   ]
  },
  {
   "cell_type": "markdown",
   "metadata": {},
   "source": [
    "Faca um programa que:\n",
    "1) Carregue os dados de um csv remoto, ex. csv do github, csv de uma base aberta qualquer ou API.  \n",
    "2) Crie uma api que filtre esses dados e retorne o json dos dados filtrados.  \n",
    "3) A partir dos dados filtrados você deve escolher uma variável quantitativa para agregar com um groupby e criar um csv e um json resposta, ambos devem ser persistidos.  \n",
    "4) A partir dos dados filtrados você deve escolher um gráfico para fazer como por exemplo fizemos as gorgetas dadas por sexo ou dia da semana. Crie uma figura png ou jpeg resposta.  \n",
    "5) Coloque sua resposta em um projeto novo no git e envie por e-mail.  \n",
    "  \n",
    "Entregar até 29/11."
   ]
  }
 ],
 "metadata": {
  "kernelspec": {
   "display_name": "Python 3",
   "language": "python",
   "name": "python3"
  },
  "language_info": {
   "codemirror_mode": {
    "name": "ipython",
    "version": 3
   },
   "file_extension": ".py",
   "mimetype": "text/x-python",
   "name": "python",
   "nbconvert_exporter": "python",
   "pygments_lexer": "ipython3",
   "version": "3.7.9"
  }
 },
 "nbformat": 4,
 "nbformat_minor": 5
}
